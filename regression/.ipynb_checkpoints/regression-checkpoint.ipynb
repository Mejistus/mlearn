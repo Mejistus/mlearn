{
 "cells": [
  {
   "cell_type": "code",
   "execution_count": null,
   "id": "7a0182f2-6714-4014-a421-f5ee34416686",
   "metadata": {},
   "outputs": [],
   "source": []
  },
  {
   "cell_type": "code",
   "execution_count": null,
   "id": "d0751845-817b-41ae-bd52-9f126338d4c6",
   "metadata": {},
   "outputs": [],
   "source": [
    "#!pip install pandas matplotlib numpy tqdm"
   ]
  },
  {
   "cell_type": "code",
   "execution_count": 23,
   "id": "4047b5a9-2d9f-4ab6-84dd-fb3b5a6ab3bd",
   "metadata": {},
   "outputs": [],
   "source": [
    "import pandas as pd \n",
    "import numpy as np \n",
    "import matplotlib.pyplot as plt\n",
    "import tqdm as tm"
   ]
  },
  {
   "cell_type": "code",
   "execution_count": null,
   "id": "56349918-0c16-49c3-9a60-4e4be5371c76",
   "metadata": {},
   "outputs": [],
   "source": [
    "# 产生数据\n",
    "import numpy as np  \n",
    "# 设置随机种子以确保结果可复现  \n",
    "np.random.seed(0)  \n",
    "# 样本数量  \n",
    "n_samples = 100  \n",
    "# 自变量X（特征），这里我们简单地使用了一个线性递增的序列，并添加了一些随机噪声  \n",
    "X = 2 * np.random.rand(n_samples, 1)  # 生成0到2之间的随机数  \n",
    "# 真实参数  \n",
    "true_coef = 2.5  \n",
    "true_intercept = 1.3  \n",
    "# 因变量Y（目标），根据真实参数和自变量X计算得到，并添加一些随机噪声  \n",
    "Y = true_coef * X.squeeze() + true_intercept + np.random.randn(n_samples, 1) * 0.5  \n",
    "# 现在我们有了数据集 (X, Y)，其中X是自变量，Y是因变量  \n",
    "# 你可以使用这些数据来训练你的回归模型  \n",
    "# 打印前几行数据以查看  \n",
    "# print(\"X:\\n\", X[:5],np.shape(X))  \n",
    "# print(\"Y:\\n\", Y[:5],np.shape(Y))\n"
   ]
  },
  {
   "cell_type": "markdown",
   "id": "73292b2f-31d6-4b5e-89ba-fad93047e60d",
   "metadata": {},
   "source": [
    "% 线性回归模型  \n",
    "$$ \n",
    "\\hat{y} = w \\cdot x + b  \n",
    "$$  \n",
    "  \n",
    "% 损失函数（均方误差）  \n",
    "$$ \n",
    "J(w, b) = \\frac{1}{2m} \\sum_{i=1}^{m} (\\hat{y}^{(i)} - y^{(i)})^2  \n",
    "$$ \n",
    "  \n",
    "% 梯度下降更新规则  \n",
    "$$ \n",
    "w := w - \\alpha \\frac{\\partial J(w, b)}{\\partial w}  \n",
    "$$ \n",
    "$$ \n",
    "b := b - \\alpha \\frac{\\partial J(w, b)}{\\partial b}  \n",
    "$$\n",
    "  \n",
    "% 偏导数  \n",
    "$$\n",
    "\\frac{\\partial J(w, b)}{\\partial w} = \\frac{1}{m} \\sum_{i=1}^{m} (\\hat{y}^{(i)} - y^{(i)}) \\cdot x^{(i)}  \n",
    "$$\n",
    "$$\n",
    "\\frac{\\partial J(w, b)}{\\partial b} = \\frac{1}{m} \\sum_{i=1}^{m} (\\hat{y}^{(i)} - y^{(i)})  \n",
    "$$  \n"
   ]
  },
  {
   "cell_type": "code",
   "execution_count": null,
   "id": "9cdddc4d-ed2a-4ee8-8af9-b08cec1f00c7",
   "metadata": {},
   "outputs": [],
   "source": []
  },
  {
   "cell_type": "code",
   "execution_count": null,
   "id": "5b2b2833-777c-40d6-bfbc-5d487e09f999",
   "metadata": {},
   "outputs": [],
   "source": []
  },
  {
   "cell_type": "code",
   "execution_count": null,
   "id": "4b958b4e-4a55-45c3-9a63-057b37a5359a",
   "metadata": {},
   "outputs": [],
   "source": []
  }
 ],
 "metadata": {
  "kernelspec": {
   "display_name": "Python 3 (ipykernel)",
   "language": "python",
   "name": "python3"
  },
  "language_info": {
   "codemirror_mode": {
    "name": "ipython",
    "version": 3
   },
   "file_extension": ".py",
   "mimetype": "text/x-python",
   "name": "python",
   "nbconvert_exporter": "python",
   "pygments_lexer": "ipython3",
   "version": "3.12.3"
  },
  "widgets": {
   "application/vnd.jupyter.widget-state+json": {
    "state": {},
    "version_major": 2,
    "version_minor": 0
   }
  }
 },
 "nbformat": 4,
 "nbformat_minor": 5
}
